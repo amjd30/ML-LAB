{
 "cells": [
  {
   "cell_type": "code",
   "execution_count": 22,
   "id": "c2dfda64",
   "metadata": {},
   "outputs": [
    {
     "name": "stdout",
     "output_type": "stream",
     "text": [
      "20\n",
      "30\n",
      "Friday \n"
     ]
    },
    {
     "data": {
      "text/plain": [
       "str"
      ]
     },
     "execution_count": 22,
     "metadata": {},
     "output_type": "execute_result"
    }
   ],
   "source": [
    "var = 20\n",
    "var2 = 30\n",
    "day = \"Friday \"\n",
    "print(var)\n",
    "print(var2)\n",
    "print(day)\n",
    "type(day)"
   ]
  },
  {
   "cell_type": "code",
   "execution_count": 23,
   "id": "3967deed",
   "metadata": {},
   "outputs": [
    {
     "data": {
      "text/plain": [
       "5"
      ]
     },
     "execution_count": 23,
     "metadata": {},
     "output_type": "execute_result"
    }
   ],
   "source": [
    "var1 = 5\n",
    "var2 = 10\n",
    "var3 = 20\n",
    "list_int = [5,10,20]\n",
    "type(list_int)\n",
    "list_int[0]"
   ]
  },
  {
   "cell_type": "code",
   "execution_count": 24,
   "id": "84e6399d",
   "metadata": {},
   "outputs": [
    {
     "data": {
      "text/plain": [
       "20"
      ]
     },
     "execution_count": 24,
     "metadata": {},
     "output_type": "execute_result"
    }
   ],
   "source": [
    "#Last element of the list\n",
    "list_int[-1]"
   ]
  },
  {
   "cell_type": "code",
   "execution_count": 25,
   "id": "e0f7ac9d",
   "metadata": {},
   "outputs": [
    {
     "data": {
      "text/plain": [
       "[5, 10, 20]"
      ]
     },
     "execution_count": 25,
     "metadata": {},
     "output_type": "execute_result"
    }
   ],
   "source": [
    "list_int[0:3]"
   ]
  },
  {
   "cell_type": "code",
   "execution_count": 26,
   "id": "1644634d",
   "metadata": {},
   "outputs": [
    {
     "name": "stdout",
     "output_type": "stream",
     "text": [
      "[5, 10, 20, 30]\n"
     ]
    }
   ],
   "source": [
    "list_int.append(30)\n",
    "print(list_int)"
   ]
  },
  {
   "cell_type": "code",
   "execution_count": 27,
   "id": "a33dbbc0",
   "metadata": {},
   "outputs": [],
   "source": [
    "list_int.remove(30)"
   ]
  },
  {
   "cell_type": "code",
   "execution_count": 28,
   "id": "6de0b82a",
   "metadata": {},
   "outputs": [
    {
     "name": "stdout",
     "output_type": "stream",
     "text": [
      "[5, 10, 20]\n"
     ]
    }
   ],
   "source": [
    "print(list_int)"
   ]
  },
  {
   "cell_type": "code",
   "execution_count": 29,
   "id": "1e0b1d05",
   "metadata": {},
   "outputs": [
    {
     "name": "stdout",
     "output_type": "stream",
     "text": [
      "[20, 10, 5]\n"
     ]
    }
   ],
   "source": [
    "list_int.reverse()\n",
    "print(list_int)"
   ]
  },
  {
   "cell_type": "code",
   "execution_count": 30,
   "id": "b7793258",
   "metadata": {},
   "outputs": [
    {
     "name": "stdout",
     "output_type": "stream",
     "text": [
      "[5, 10, 20]\n"
     ]
    }
   ],
   "source": [
    "list_int.sort()\n",
    "print(list_int)"
   ]
  },
  {
   "cell_type": "code",
   "execution_count": 31,
   "id": "2a940c5c",
   "metadata": {},
   "outputs": [
    {
     "name": "stdout",
     "output_type": "stream",
     "text": [
      "20\n"
     ]
    }
   ],
   "source": [
    "max = 10\n",
    "for each in list_int:\n",
    "    if(each > max ):\n",
    "        max = each\n",
    "    else:\n",
    "        continue\n",
    "        \n",
    "print(max)       "
   ]
  },
  {
   "cell_type": "code",
   "execution_count": 32,
   "id": "f6c347ad",
   "metadata": {},
   "outputs": [
    {
     "name": "stdout",
     "output_type": "stream",
     "text": [
      "0\n",
      "1\n",
      "2\n",
      "3\n",
      "4\n"
     ]
    }
   ],
   "source": [
    "i = 0\n",
    "while(i<5):\n",
    "    print(i)\n",
    "    i = i + 1"
   ]
  },
  {
   "cell_type": "code",
   "execution_count": 33,
   "id": "e158b9f0",
   "metadata": {},
   "outputs": [
    {
     "data": {
      "text/plain": [
       "12.56"
      ]
     },
     "execution_count": 33,
     "metadata": {},
     "output_type": "execute_result"
    }
   ],
   "source": [
    "def cember_cevre(r,pi=3.14): \n",
    "    result = 2*pi*r\n",
    "    return result\n",
    "\n",
    "cember_cevre(2)\n",
    "    "
   ]
  },
  {
   "cell_type": "code",
   "execution_count": 34,
   "id": "29231ec7",
   "metadata": {},
   "outputs": [
    {
     "name": "stdout",
     "output_type": "stream",
     "text": [
      "4\n",
      "4\n"
     ]
    }
   ],
   "source": [
    "def count(x):\n",
    "    result = x * x\n",
    "    return result\n",
    "\n",
    "result = count(2)\n",
    "print(result)\n",
    "\n",
    "#Another way\n",
    "result2 = lambda x: x*x\n",
    "print(result2(2))"
   ]
  },
  {
   "cell_type": "code",
   "execution_count": 35,
   "id": "584c71bd",
   "metadata": {},
   "outputs": [
    {
     "name": "stdout",
     "output_type": "stream",
     "text": [
      "{'AMJD': 24, 'ALI': 27, 'ALA': 28}\n"
     ]
    }
   ],
   "source": [
    "dictionary = {\"AMJD\":24,\"ALI\":27,\"ALA\":28}\n",
    "print(dictionary)"
   ]
  },
  {
   "cell_type": "code",
   "execution_count": 36,
   "id": "a7a51cf8",
   "metadata": {},
   "outputs": [
    {
     "data": {
      "text/plain": [
       "dict"
      ]
     },
     "execution_count": 36,
     "metadata": {},
     "output_type": "execute_result"
    }
   ],
   "source": [
    "type(dictionary)"
   ]
  },
  {
   "cell_type": "code",
   "execution_count": 37,
   "id": "5473f8aa",
   "metadata": {},
   "outputs": [
    {
     "data": {
      "text/plain": [
       "dict_keys(['AMJD', 'ALI', 'ALA'])"
      ]
     },
     "execution_count": 37,
     "metadata": {},
     "output_type": "execute_result"
    }
   ],
   "source": [
    "dictionary.keys()"
   ]
  },
  {
   "cell_type": "code",
   "execution_count": 38,
   "id": "7c155353",
   "metadata": {},
   "outputs": [
    {
     "data": {
      "text/plain": [
       "dict_values([24, 27, 28])"
      ]
     },
     "execution_count": 38,
     "metadata": {},
     "output_type": "execute_result"
    }
   ],
   "source": [
    "dictionary.values()"
   ]
  },
  {
   "cell_type": "code",
   "execution_count": 39,
   "id": "a34b1193",
   "metadata": {},
   "outputs": [
    {
     "name": "stdout",
     "output_type": "stream",
     "text": [
      "The name is exist!\n"
     ]
    }
   ],
   "source": [
    "keys = dictionary.keys()\n",
    "if \"AMJD\" in keys:\n",
    "    print(\"The name is exist!\")\n",
    "else:\n",
    "    print(\"The name is not exist!\")"
   ]
  },
  {
   "cell_type": "code",
   "execution_count": 40,
   "id": "43ea625d",
   "metadata": {},
   "outputs": [
    {
     "name": "stdout",
     "output_type": "stream",
     "text": [
      "The name is exist!\n"
     ]
    }
   ],
   "source": [
    "keys = dictionary.keys()\n",
    "if \"AMJD\" in keys:\n",
    "    print(\"The name is exist!\")\n",
    "else:\n",
    "    print(\"The name is not exist!\")"
   ]
  },
  {
   "cell_type": "code",
   "execution_count": null,
   "id": "7e923bc2",
   "metadata": {},
   "outputs": [],
   "source": []
  }
 ],
 "metadata": {
  "kernelspec": {
   "display_name": "Python 3 (ipykernel)",
   "language": "python",
   "name": "python3"
  },
  "language_info": {
   "codemirror_mode": {
    "name": "ipython",
    "version": 3
   },
   "file_extension": ".py",
   "mimetype": "text/x-python",
   "name": "python",
   "nbconvert_exporter": "python",
   "pygments_lexer": "ipython3",
   "version": "3.11.5"
  }
 },
 "nbformat": 4,
 "nbformat_minor": 5
}
